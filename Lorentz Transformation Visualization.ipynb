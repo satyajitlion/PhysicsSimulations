{
 "cells": [
  {
   "cell_type": "markdown",
   "id": "470c3c39",
   "metadata": {},
   "source": [
    "# Lorentz Transformation Visualization"
   ]
  },
  {
   "cell_type": "markdown",
   "id": "6f4561c9",
   "metadata": {},
   "source": [
    "###### Adjust the Sliders below to see how the coordinate system for something might chang as the speed of that thing increases with respect to the speed of light!"
   ]
  },
  {
   "cell_type": "markdown",
   "id": "eeb06df8",
   "metadata": {},
   "source": [
    "#### The value of beta represents at what fraction of the speed of light something maybe travelling at. We can think of the following plot as how the world itself changes in the perspective of an object travelling at relativistic speeds. Here, we apply the Lorentz transformation to see this special perspective of the object."
   ]
  },
  {
   "cell_type": "code",
   "execution_count": 1,
   "id": "765c49c3",
   "metadata": {},
   "outputs": [],
   "source": [
    "import numpy as np\n",
    "import matplotlib.pyplot as plt\n",
    "from ipywidgets import interact, FloatSlider"
   ]
  },
  {
   "cell_type": "code",
   "execution_count": 2,
   "id": "9715678f",
   "metadata": {},
   "outputs": [],
   "source": [
    "def lorentz_transform(beta):\n",
    "    '''definition of gamma, relativistic by-product of travelling at extreme speeds'''\n",
    "    gamma = 1 / np.sqrt(1 - beta**2) \n",
    "    return np.array([[gamma, gamma*beta], [gamma*beta, gamma]])"
   ]
  },
  {
   "cell_type": "code",
   "execution_count": 3,
   "id": "84d09a84",
   "metadata": {},
   "outputs": [
    {
     "data": {
      "application/vnd.jupyter.widget-view+json": {
       "model_id": "2f029f2f44c647019d4302aa24fafae2",
       "version_major": 2,
       "version_minor": 0
      },
      "text/plain": [
       "interactive(children=(FloatSlider(value=0.0, description='beta', max=0.99999, step=0.02), Output()), _dom_clas…"
      ]
     },
     "metadata": {},
     "output_type": "display_data"
    }
   ],
   "source": [
    "def make_plot(beta):\n",
    "    '''changes in the cartesian coordinate system with respect to changes in the fractions of speed \n",
    "    with respect to light.'''\n",
    "    fig, ax = plt.subplots(figsize=(6, 6));\n",
    "    \n",
    "    ax.set_aspect('equal')\n",
    "    ax.set_xlim(-3, 3)\n",
    "    ax.set_ylim(-3, 3)\n",
    "    ax.set_xlabel('x')\n",
    "    ax.set_ylabel('t')\n",
    "\n",
    "    # Regular Coordinate System:\n",
    "    N = 201\n",
    "    t = np.linspace(-100, 100, N)\n",
    "    x = np.linspace(-100, 100, N)\n",
    "    T, X = np.meshgrid(t, x)\n",
    "\n",
    "    # Light cone plot\n",
    "    ax.plot(t, t, color='green', linestyle='--')\n",
    "    ax.plot(t, -t, color='green', linestyle='--')\n",
    "    \n",
    "    ##color change to indicate different sections of the light cone\n",
    "    ax.fill_between(t, t, -t, color='gray', alpha=0.7)\n",
    "    ax.fill_between(t, -t, t, color='gray', alpha=0.7)\n",
    "\n",
    "\n",
    "    # Applying the Lorentz transformation to the coordinate system:\n",
    "    TX = np.array([T.reshape(-1), X.reshape(-1)])\n",
    "    TX_transformed = lorentz_transform(beta).dot(TX)\n",
    "    T_transformed = TX_transformed[0].reshape(T.shape)\n",
    "    X_transformed = TX_transformed[1].reshape(X.shape)\n",
    "\n",
    "    # Plot the original grid\n",
    "    ax.plot(T, X, '-', color='lightgray')\n",
    "    ax.plot(X, T, '-', color='lightgray')\n",
    "    \n",
    "    # Plot the invariant hyperbola\n",
    "    t_fine = np.linspace(-5, 5, 100)\n",
    "    xh1 = np.cosh(t_fine)\n",
    "    yh1 = np.sinh(t_fine)\n",
    "    xh2 = -np.cosh(t_fine)\n",
    "    yh2 = np.sinh(t_fine)\n",
    "\n",
    "    ax.plot(xh1, yh1, color='blue')\n",
    "    ax.plot(xh2, yh2, color='blue')\n",
    "    ax.plot(yh1, xh1, color='blue')\n",
    "    ax.plot(yh2, xh2, color='blue')\n",
    "\n",
    "    # Plot the transformed grid\n",
    "    ax.plot(T_transformed, X_transformed, '-', color='black')\n",
    "    ax.plot(X_transformed, T_transformed, '-', color='black')\n",
    "    ax.set_title(f'$\\\\beta$ = {beta}')\n",
    "    \n",
    "    plt.show()\n",
    "\n",
    "#interactable slider\n",
    "interact(make_plot, beta=FloatSlider(min=0, max=0.99999, step=0.02, value=0.)); "
   ]
  }
 ],
 "metadata": {
  "kernelspec": {
   "display_name": "Python 3 (ipykernel)",
   "language": "python",
   "name": "python3"
  },
  "language_info": {
   "codemirror_mode": {
    "name": "ipython",
    "version": 3
   },
   "file_extension": ".py",
   "mimetype": "text/x-python",
   "name": "python",
   "nbconvert_exporter": "python",
   "pygments_lexer": "ipython3",
   "version": "3.9.13"
  }
 },
 "nbformat": 4,
 "nbformat_minor": 5
}
