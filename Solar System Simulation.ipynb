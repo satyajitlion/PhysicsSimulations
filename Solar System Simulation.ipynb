{
 "cells": [
  {
   "cell_type": "markdown",
   "id": "f44772df",
   "metadata": {},
   "source": [
    "## Solar System Simulation\n",
    "This is a Solar System Simulation for some planets moving around a Sun in space. \n",
    "This project was achieved through Glowscript, Vpython."
   ]
  },
  {
   "cell_type": "code",
   "execution_count": null,
   "id": "f7dbcbed",
   "metadata": {
    "scrolled": true
   },
   "outputs": [],
   "source": [
    "from vpython import *\n",
    "e_graph = gcurve(color=color.blue)\n",
    "def gforce(p1,p2):\n",
    "    # Calculate the gravitational force exerted on p1 by p2.\n",
    "    G = 1 # Change to 6.67e-11 to use real-world values.\n",
    "    # Calculate distance vector between p1 and p2.\n",
    "    r_vec = p1.pos-p2.pos\n",
    "    # Calculate magnitude of distance vector.\n",
    "    r_mag = mag(r_vec)\n",
    "    # Calcualte unit vector of distance vector.\n",
    "    r_hat = r_vec/r_mag\n",
    "    # Calculate force magnitude.\n",
    "    force_mag = G*p1.mass*p2.mass/r_mag**2\n",
    "    # Calculate force vector.\n",
    "    force_vec = -force_mag*r_hat\n",
    "    \n",
    "    return force_vec\n",
    "    \n",
    "star = sphere( pos=vector(0,0,0), radius=0.2, color=color.yellow,\n",
    "               mass = 1000, momentum=vector(0,0,0), make_trail=True )\n",
    "               \n",
    "planet1 = sphere( pos=vector(1,0,0), radius=0.05, color=color.blue,\n",
    "                  mass = 1, momentum=vector(0,30,0), make_trail=True )\n",
    "\n",
    "planet2 = sphere( pos=vector(0,3,0), radius=0.075, color=color.red,\n",
    "                  mass = 2, momentum=vector(-35,0,0), make_trail=True )\n",
    "                  \n",
    "planet3 = sphere( pos=vector(0,-4,0), radius=0.1, color=color.green,\n",
    "                  mass = 10, momentum=vector(160,0,0), make_trail=True )\n",
    "               \n",
    "dt = 0.0001\n",
    "t = 0\n",
    "while (True):\n",
    "    rate(1000)\n",
    "    \n",
    "    # Calculate forces.\n",
    "    star.force = gforce(star,planet1)+gforce(star,planet2)+gforce(star,planet3)\n",
    "    planet1.force = gforce(planet1,star)+gforce(planet1,planet2)+gforce(planet1,planet3)\n",
    "    planet2.force = gforce(planet2,star)+gforce(planet2,planet1)+gforce(planet2,planet3)\n",
    "    planet3.force = gforce(planet3,star)+gforce(planet3,planet1)+gforce(planet3,planet2)\n",
    "\n",
    "    # Update momenta.\n",
    "    star.momentum = star.momentum + star.force*dt\n",
    "    planet1.momentum = planet1.momentum + planet1.force*dt\n",
    "    planet2.momentum = planet2.momentum + planet2.force*dt\n",
    "    planet3.momentum = planet3.momentum + planet3.force*dt\n",
    "\n",
    "    # Update positions.\n",
    "    star.pos = star.pos + star.momentum/star.mass*dt\n",
    "    planet1.pos = planet1.pos + planet1.momentum/planet1.mass*dt\n",
    "    planet2.pos = planet2.pos + planet2.momentum/planet2.mass*dt\n",
    "    planet3.pos = planet3.pos + planet3.momentum/planet3.mass*dt\n",
    "    \n",
    "    t = t + dt"
   ]
  }
 ],
 "metadata": {
  "kernelspec": {
   "display_name": "Python 3 (ipykernel)",
   "language": "python",
   "name": "python3"
  },
  "language_info": {
   "codemirror_mode": {
    "name": "ipython",
    "version": 3
   },
   "file_extension": ".py",
   "mimetype": "text/x-python",
   "name": "python",
   "nbconvert_exporter": "python",
   "pygments_lexer": "ipython3",
   "version": "3.9.13"
  }
 },
 "nbformat": 4,
 "nbformat_minor": 5
}
