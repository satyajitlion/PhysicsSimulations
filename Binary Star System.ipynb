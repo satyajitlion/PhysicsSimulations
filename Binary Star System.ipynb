{
 "cells": [
  {
   "cell_type": "markdown",
   "id": "f44772df",
   "metadata": {},
   "source": [
    "## Author: Satyajit Gade"
   ]
  },
  {
   "cell_type": "code",
   "execution_count": 5,
   "id": "f7dbcbed",
   "metadata": {},
   "outputs": [
    {
     "ename": "ModuleNotFoundError",
     "evalue": "No module named 'keyboard'",
     "output_type": "error",
     "traceback": [
      "\u001b[1;31m---------------------------------------------------------------------------\u001b[0m",
      "\u001b[1;31mModuleNotFoundError\u001b[0m                       Traceback (most recent call last)",
      "\u001b[1;32m~\\AppData\\Local\\Temp\\ipykernel_14216\\1900893406.py\u001b[0m in \u001b[0;36m<module>\u001b[1;34m\u001b[0m\n\u001b[0;32m      2\u001b[0m \u001b[1;32mfrom\u001b[0m \u001b[0mvpython\u001b[0m \u001b[1;32mimport\u001b[0m \u001b[1;33m*\u001b[0m\u001b[1;33m\u001b[0m\u001b[1;33m\u001b[0m\u001b[0m\n\u001b[0;32m      3\u001b[0m \u001b[1;31m# using module keyboard\u001b[0m\u001b[1;33m\u001b[0m\u001b[1;33m\u001b[0m\u001b[0m\n\u001b[1;32m----> 4\u001b[1;33m \u001b[1;32mimport\u001b[0m \u001b[0mkeyboard\u001b[0m\u001b[1;33m\u001b[0m\u001b[1;33m\u001b[0m\u001b[0m\n\u001b[0m",
      "\u001b[1;31mModuleNotFoundError\u001b[0m: No module named 'keyboard'"
     ]
    }
   ],
   "source": [
    "#Web VPython 3.2\n",
    "from vpython import * \n",
    "# using module keyboard\n",
    "import keyboard"
   ]
  },
  {
   "cell_type": "code",
   "execution_count": null,
   "id": "fcbe5b99",
   "metadata": {},
   "outputs": [],
   "source": [
    "scene.caption = \"\"\"This is a Binary System for two celestial bodies moving in space. \n",
    "This project was achieved through Vpython.\"\"\"\n",
    "#canvas\n",
    "scene.forward = vector(0,-.3,-1)\n",
    "\n",
    "# Newton gravitational constant\n",
    "G = 6.7e-11 \n",
    "\n",
    "#central star; red-giant\n",
    "giant = sphere(pos=vector(-1e11,0,0), radius=2e10, color=color.red, \n",
    "                make_trail=True, trail_type='points', interval=10, retain=50)\n",
    "\n",
    "#mass of the red-giant\n",
    "giant.mass = 2e30 \n",
    "#position of giant\n",
    "giant.p = vector(0, 0, -1e4) * giant.mass \n",
    "\n",
    "#dwarf star\n",
    "dwarf = sphere(pos=vector(1.5e11,0,0), radius=1e10, color=color.yellow,\n",
    "                make_trail=True, interval=10, retain=50) \n",
    "#mass of dwarf\n",
    "dwarf.mass = 1e30 \n",
    "#position of dwarf\n",
    "dwarf.p = -giant.p \n",
    "\n",
    "#time difference\n",
    "dt = 1e5\n",
    "\n",
    "#Simulation:\n",
    "while True:\n",
    "    if keyboard.key__pressed('p'):\n",
    "        rate(0)\n",
    "    else:\n",
    "        rate(200)\n",
    "        r = dwarf.pos - giant.pos\n",
    "        F = G * giant.mass * dwarf.mass * r.hat / mag(r)**2\n",
    "        giant.p = giant.p + F*dt\n",
    "        dwarf.p = dwarf.p - F*dt\n",
    "        giant.pos = giant.pos + (giant.p/giant.mass) * dt\n",
    "        dwarf.pos = dwarf.pos + (dwarf.p/dwarf.mass) * dt"
   ]
  },
  {
   "cell_type": "code",
   "execution_count": null,
   "id": "ac08548c",
   "metadata": {},
   "outputs": [],
   "source": []
  },
  {
   "cell_type": "code",
   "execution_count": null,
   "id": "144319d0",
   "metadata": {},
   "outputs": [],
   "source": []
  },
  {
   "cell_type": "code",
   "execution_count": null,
   "id": "8233deb2",
   "metadata": {},
   "outputs": [],
   "source": []
  }
 ],
 "metadata": {
  "kernelspec": {
   "display_name": "Python 3 (ipykernel)",
   "language": "python",
   "name": "python3"
  },
  "language_info": {
   "codemirror_mode": {
    "name": "ipython",
    "version": 3
   },
   "file_extension": ".py",
   "mimetype": "text/x-python",
   "name": "python",
   "nbconvert_exporter": "python",
   "pygments_lexer": "ipython3",
   "version": "3.9.13"
  }
 },
 "nbformat": 4,
 "nbformat_minor": 5
}
