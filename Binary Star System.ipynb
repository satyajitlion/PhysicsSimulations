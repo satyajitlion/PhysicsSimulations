{
 "cells": [
  {
   "cell_type": "markdown",
   "id": "f44772df",
   "metadata": {},
   "source": [
    "## Binary Star System Simulation\n",
    "This is a Binary System for two celestial bodies moving in space. \n",
    "This project was achieved through Glowscript, Vpython."
   ]
  },
  {
   "cell_type": "markdown",
   "id": "87299ba1",
   "metadata": {},
   "source": [
    "###### Press U to stop the Simulation. You can also play around with the Simulation by zooming in and out using the Scrollwheel. By using the rightclick, you can change the inclination of  Binary System as well. This inclination angle is arbitrary and up to the user."
   ]
  },
  {
   "cell_type": "code",
   "execution_count": 1,
   "id": "f7dbcbed",
   "metadata": {},
   "outputs": [
    {
     "data": {
      "text/html": [
       "<div id=\"glowscript\" class=\"glowscript\"></div>"
      ],
      "text/plain": [
       "<IPython.core.display.HTML object>"
      ]
     },
     "metadata": {},
     "output_type": "display_data"
    },
    {
     "data": {
      "application/javascript": [
       "if (typeof Jupyter !== \"undefined\") { window.__context = { glowscript_container: $(\"#glowscript\").removeAttr(\"id\")};}else{ element.textContent = ' ';}"
      ],
      "text/plain": [
       "<IPython.core.display.Javascript object>"
      ]
     },
     "metadata": {},
     "output_type": "display_data"
    }
   ],
   "source": [
    "#Web VPython 3.2\n",
    "from vpython import * \n",
    "# using module keyboard\n",
    "import keyboard"
   ]
  },
  {
   "cell_type": "code",
   "execution_count": null,
   "id": "fcbe5b99",
   "metadata": {},
   "outputs": [
    {
     "data": {
      "application/javascript": [
       "if (typeof Jupyter !== \"undefined\") {require.undef(\"nbextensions/vpython_libraries/glow.min\");}else{element.textContent = ' ';}"
      ],
      "text/plain": [
       "<IPython.core.display.Javascript object>"
      ]
     },
     "metadata": {},
     "output_type": "display_data"
    },
    {
     "data": {
      "application/javascript": [
       "if (typeof Jupyter !== \"undefined\") {require.undef(\"nbextensions/vpython_libraries/glowcomm\");}else{element.textContent = ' ';}"
      ],
      "text/plain": [
       "<IPython.core.display.Javascript object>"
      ]
     },
     "metadata": {},
     "output_type": "display_data"
    },
    {
     "data": {
      "application/javascript": [
       "if (typeof Jupyter !== \"undefined\") {require.undef(\"nbextensions/vpython_libraries/jquery-ui.custom.min\");}else{element.textContent = ' ';}"
      ],
      "text/plain": [
       "<IPython.core.display.Javascript object>"
      ]
     },
     "metadata": {},
     "output_type": "display_data"
    },
    {
     "data": {
      "application/javascript": [
       "if (typeof Jupyter !== \"undefined\") {require([\"nbextensions/vpython_libraries/glow.min\"], function(){console.log(\"GLOW LOADED\");});}else{element.textContent = ' ';}"
      ],
      "text/plain": [
       "<IPython.core.display.Javascript object>"
      ]
     },
     "metadata": {},
     "output_type": "display_data"
    },
    {
     "data": {
      "application/javascript": [
       "if (typeof Jupyter !== \"undefined\") {require([\"nbextensions/vpython_libraries/glowcomm\"], function(){console.log(\"GLOWCOMM LOADED\");});}else{element.textContent = ' ';}"
      ],
      "text/plain": [
       "<IPython.core.display.Javascript object>"
      ]
     },
     "metadata": {},
     "output_type": "display_data"
    },
    {
     "data": {
      "application/javascript": [
       "if (typeof Jupyter !== \"undefined\") {require([\"nbextensions/vpython_libraries/jquery-ui.custom.min\"], function(){console.log(\"JQUERY LOADED\");});}else{element.textContent = ' ';}"
      ],
      "text/plain": [
       "<IPython.core.display.Javascript object>"
      ]
     },
     "metadata": {},
     "output_type": "display_data"
    }
   ],
   "source": [
    "#canvas\n",
    "scene.forward = vector(0,-.3,-1)\n",
    "\n",
    "# Newton gravitational constant\n",
    "G = 6.7e-11 \n",
    "\n",
    "#central star; red-giant\n",
    "giant = sphere(pos=vector(-1e11,0,0), radius=2e10, color=color.red, \n",
    "                make_trail=True, trail_type='points', interval=10, retain=50)\n",
    "\n",
    "#mass of the red-giant\n",
    "giant.mass = 2e30 \n",
    "#position of giant\n",
    "giant.p = vector(0, 0, -1e4) * giant.mass \n",
    "\n",
    "#dwarf star\n",
    "dwarf = sphere(pos=vector(1.5e11,0,0), radius=1e10, color=color.yellow,\n",
    "                make_trail=True, interval=10, retain=50) \n",
    "#mass of dwarf\n",
    "dwarf.mass = 1e30 \n",
    "#position of dwarf\n",
    "dwarf.p = -giant.p \n",
    "\n",
    "#time difference\n",
    "dt = 1e5\n",
    "\n",
    "#Simulation:\n",
    "x = True\n",
    "while x:\n",
    "    if keyboard.is_pressed('u'):\n",
    "        x = False\n",
    "    else:\n",
    "        rate(200)\n",
    "        r = dwarf.pos - giant.pos\n",
    "        F = G * giant.mass * dwarf.mass * r.hat / mag(r)**2\n",
    "        giant.p = giant.p + F*dt\n",
    "        dwarf.p = dwarf.p - F*dt\n",
    "        giant.pos = giant.pos + (giant.p/giant.mass) * dt\n",
    "        dwarf.pos = dwarf.pos + (dwarf.p/dwarf.mass) * dt"
   ]
  },
  {
   "cell_type": "code",
   "execution_count": null,
   "id": "ac08548c",
   "metadata": {},
   "outputs": [],
   "source": []
  },
  {
   "cell_type": "code",
   "execution_count": null,
   "id": "144319d0",
   "metadata": {},
   "outputs": [],
   "source": []
  },
  {
   "cell_type": "code",
   "execution_count": null,
   "id": "8233deb2",
   "metadata": {},
   "outputs": [],
   "source": []
  }
 ],
 "metadata": {
  "kernelspec": {
   "display_name": "Python 3 (ipykernel)",
   "language": "python",
   "name": "python3"
  },
  "language_info": {
   "codemirror_mode": {
    "name": "ipython",
    "version": 3
   },
   "file_extension": ".py",
   "mimetype": "text/x-python",
   "name": "python",
   "nbconvert_exporter": "python",
   "pygments_lexer": "ipython3",
   "version": "3.9.13"
  }
 },
 "nbformat": 4,
 "nbformat_minor": 5
}
